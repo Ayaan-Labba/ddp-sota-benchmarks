{
 "cells": [
  {
   "cell_type": "markdown",
   "id": "5356a1be",
   "metadata": {},
   "source": [
    "# Bio-Domain Datasets"
   ]
  },
  {
   "cell_type": "code",
   "execution_count": 1,
   "id": "76c9b2dc",
   "metadata": {},
   "outputs": [],
   "source": [
    "import json\n",
    "import os\n",
    "import xml.etree.ElementTree as ET\n",
    "\n",
    "from tqdm.auto import tqdm\n",
    "from transformers import BertTokenizerFast\n",
    "from datasets import load_dataset, dataset_dict\n",
    "from pprint import pprint\n",
    "from typing import List, Dict"
   ]
  },
  {
   "cell_type": "code",
   "execution_count": 2,
   "id": "378c7cbd",
   "metadata": {},
   "outputs": [],
   "source": [
    "tokenizer: BertTokenizerFast = BertTokenizerFast.from_pretrained('bert-base-uncased')\n",
    "\n",
    "def char_to_token_indices(offset_mapping, entities: List[Dict]) -> List[Dict]:\n",
    "    \"\"\"\n",
    "    Converts character start/end indices to BERT token-level start/end indices for a list of entities.\n",
    "    \"\"\"\n",
    "    for entity in entities:\n",
    "        entity['token_offsets'] = [(-1, -1)] * len(entity['char_offsets'])\n",
    "        for i, (start, end) in enumerate(entity['char_offsets']):\n",
    "            char_start, char_end = start, end\n",
    "            token_start, token_end = entity['token_offsets'][i][0], entity['token_offsets'][i][1]\n",
    "\n",
    "            for j, (start, end) in enumerate(offset_mapping):\n",
    "                # Skip special tokens ((0, 0) offset)\n",
    "                if start == end == 0:\n",
    "                    continue\n",
    "\n",
    "                if token_start == -1 and start >= char_start:\n",
    "                    token_start = j\n",
    "\n",
    "                if token_start != -1 and end >= char_end:\n",
    "                    token_end = j\n",
    "                    break\n",
    "\n",
    "            entity['token_offsets'][i] = (token_start, token_end)\n",
    "\n",
    "    return entities"
   ]
  },
  {
   "cell_type": "markdown",
   "id": "8bfc9974",
   "metadata": {},
   "source": [
    "#### Testing offset mapping to character indices relationship"
   ]
  },
  {
   "cell_type": "code",
   "execution_count": null,
   "id": "ffe62b73",
   "metadata": {},
   "outputs": [
    {
     "name": "stdout",
     "output_type": "stream",
     "text": [
      "[(0, 0), (0, 12), (13, 15), (16, 23), (24, 32), (33, 35), (36, 37), (37, 38), (38, 40), (40, 42), (43, 47), (47, 50), (50, 52), (53, 57), (58, 60), (60, 62), (62, 64), (64, 66), (66, 72), (73, 83), (83, 84), (85, 88), (89, 92), (92, 96), (96, 99), (99, 101), (102, 106), (106, 107), (107, 119), (120, 125), (126, 129), (129, 131), (131, 133), (133, 135), (135, 138), (139, 142), (143, 145), (145, 147), (147, 149), (149, 152), (153, 157), (158, 166), (167, 169), (170, 172), (173, 180), (181, 183), (184, 189), (190, 193), (194, 201), (201, 202), (203, 205), (206, 215), (216, 223), (224, 226), (227, 230), (230, 231), (231, 232), (232, 233), (234, 242), (243, 245), (246, 251), (252, 263), (263, 264), (265, 266), (267, 271), (271, 274), (275, 278), (278, 281), (281, 283), (283, 286), (287, 289), (290, 293), (294, 304), (305, 307), (308, 311), (311, 314), (315, 319), (320, 325), (325, 326), (326, 333), (334, 342), (342, 343), (344, 354), (355, 357), (358, 361), (362, 365), (365, 368), (368, 371), (371, 373), (374, 377), (377, 380), (381, 383), (384, 387), (387, 389), (389, 391), (391, 393), (393, 396), (397, 399), (400, 402), (403, 407), (407, 408), (409, 411), (412, 416), (416, 417), (418, 420), (420, 424), (424, 427), (428, 432), (433, 438), (438, 439), (439, 446), (447, 455), (455, 456), (457, 467), (468, 470), (471, 475), (475, 478), (478, 483), (484, 489), (489, 490), (0, 0)]\n"
     ]
    }
   ],
   "source": [
    "text = \"Manipulation of kinetic profiles in 2-aryl propionic acid cyclooxygenase inhibitors.\\nThe nonsteroidal anti-inflammatory drugs flurbiprofen and ibuprofen were modified in an attempt to alter the kinetics of inhibitor binding by COX-1. Contrary to prior predictions, a halogen substituent is not sufficient to confer slow tight-binding behavior. Conversion of the carboxylate moiety of flurbiprofen to an ester or amide abolishes slow tight-binding behavior, regardless of halogenation state.\"\n",
    "tokens = tokenizer.encode_plus(text, add_special_tokens=True, return_offsets_mapping=True)\n",
    "offset_mapping = tokens['offset_mapping']\n",
    "print(offset_mapping)"
   ]
  },
  {
   "cell_type": "code",
   "execution_count": null,
   "id": "21b687df",
   "metadata": {},
   "outputs": [
    {
     "name": "stdout",
     "output_type": "stream",
     "text": [
      "manipulation of kinetic profiles in 2 - aryl propionic acid cyclooxygenase inhibitors. the nonsteroidal anti - inflammatory drugs flurbiprofen and ibuprofen were modified in an attempt to alter the kinetics of inhibitor binding by cox - 1. contrary to prior predictions, a halogen substituent is not sufficient to confer slow tight - binding behavior. conversion of the carboxylate moiety of flurbiprofen to an ester or amide abolishes slow tight - binding behavior, regardless of halogenation state.\n"
     ]
    }
   ],
   "source": [
    "detokenized = tokenizer.decode(tokens['input_ids'], skip_special_tokens=True)\n",
    "print(detokenized)"
   ]
  },
  {
   "cell_type": "code",
   "execution_count": 20,
   "id": "ed7b8043",
   "metadata": {},
   "outputs": [],
   "source": [
    "def find_max_num_offsets(dataset: dataset_dict) -> int:\n",
    "    max_offsets = 0\n",
    "    max_example = None\n",
    "    for example in dataset:\n",
    "        for entity in example['entities']:\n",
    "            num_offsets = len(entity['offsets'])\n",
    "            if num_offsets > max_offsets:\n",
    "                max_offsets = num_offsets\n",
    "                max_example = entity['offsets']\n",
    "\n",
    "    return max_offsets, max_example"
   ]
  },
  {
   "cell_type": "markdown",
   "id": "0fc216a1",
   "metadata": {},
   "source": [
    "### BigBiokB Dataset Processing Function"
   ]
  },
  {
   "cell_type": "code",
   "execution_count": 3,
   "id": "2189f229",
   "metadata": {},
   "outputs": [],
   "source": [
    "def process_bigbio(dataset: dataset_dict, output_dir: str, split: str) -> None:\n",
    "    \"\"\"\n",
    "    Processes a bigbio dataset from HuggingFace into a standard format and saves it to a JSON file.\n",
    "    \"\"\"\n",
    "    formatted_data = []\n",
    "    for example in tqdm(dataset, desc=f\"Processing {split}\"):\n",
    "        text = ' '.join([passage['text'][0] for passage in example['passages']])\n",
    "\n",
    "        # Skip documents exceeding token size limit of BERT\n",
    "        if len(text) > 512:\n",
    "            continue\n",
    "\n",
    "        # Tokenize and get token to character position mapping\n",
    "        tokenization = tokenizer.encode_plus(text, return_offsets_mapping=True, add_special_tokens=True)\n",
    "        offset_mapping = tokenization['offset_mapping']\n",
    "        \n",
    "        doc_id = example['id']\n",
    "        \n",
    "        # Process entities\n",
    "        entities_map = {}\n",
    "        entities = []\n",
    "        for entity in example['entities']:\n",
    "            entity_id = entity['id']\n",
    "            entity_type = entity['type']\n",
    "            entity_text = entity['text'][0]\n",
    "            offsets = [(offset[0], offset[1]) for offset in entity['offsets']]\n",
    "            entity_data = {'text': entity_text, 'type': entity_type, 'char_offsets': offsets}\n",
    "            entities_map[entity_id] = entity_data\n",
    "            entities.append(entity_data)\n",
    "        \n",
    "        entities = char_to_token_indices(offset_mapping, entities)\n",
    "        \n",
    "        # Process relations\n",
    "        relations = []\n",
    "        for relation in example['relations']:\n",
    "            rel_type = relation['type']\n",
    "            head_id, tail_id = relation['arg1_id'], relation['arg2_id']\n",
    "            head, tail = entities_map.get(head_id), entities_map.get(tail_id)\n",
    "            relations.append({'type': rel_type, 'head': head, 'tail': tail})\n",
    "\n",
    "        formatted_data.append({'id': doc_id, 'text': text, 'entities': entities, 'relations': relations})\n",
    "\n",
    "    # Save data\n",
    "    os.makedirs(output_dir, exist_ok=True)\n",
    "    with open(f\"{output_dir}/{split}.json\", 'w', encoding='utf-8') as f:\n",
    "        json.dump(formatted_data, f, indent=2)"
   ]
  },
  {
   "cell_type": "markdown",
   "id": "980eefa6",
   "metadata": {},
   "source": [
    "## ChemProt"
   ]
  },
  {
   "cell_type": "code",
   "execution_count": 4,
   "id": "0094fee1",
   "metadata": {},
   "outputs": [
    {
     "name": "stdout",
     "output_type": "stream",
     "text": [
      "DatasetDict({\n",
      "    sample: Dataset({\n",
      "        features: ['id', 'document_id', 'passages', 'entities', 'events', 'coreferences', 'relations'],\n",
      "        num_rows: 50\n",
      "    })\n",
      "    train: Dataset({\n",
      "        features: ['id', 'document_id', 'passages', 'entities', 'events', 'coreferences', 'relations'],\n",
      "        num_rows: 1020\n",
      "    })\n",
      "    test: Dataset({\n",
      "        features: ['id', 'document_id', 'passages', 'entities', 'events', 'coreferences', 'relations'],\n",
      "        num_rows: 800\n",
      "    })\n",
      "    validation: Dataset({\n",
      "        features: ['id', 'document_id', 'passages', 'entities', 'events', 'coreferences', 'relations'],\n",
      "        num_rows: 612\n",
      "    })\n",
      "})\n"
     ]
    }
   ],
   "source": [
    "chemprot_dataset = load_dataset(\"bigbio/chemprot\", \"chemprot_bigbio_kb\")\n",
    "\n",
    "print(chemprot_dataset)"
   ]
  },
  {
   "cell_type": "code",
   "execution_count": 6,
   "id": "6071c7a4",
   "metadata": {},
   "outputs": [
    {
     "name": "stdout",
     "output_type": "stream",
     "text": [
      "{'coreferences': [],\n",
      " 'document_id': '10471277',\n",
      " 'entities': [{'id': '2',\n",
      "               'normalized': [],\n",
      "               'offsets': [[135, 145]],\n",
      "               'text': ['Salmeterol'],\n",
      "               'type': 'CHEMICAL'},\n",
      "              {'id': '3',\n",
      "               'normalized': [],\n",
      "               'offsets': [[1248, 1259]],\n",
      "               'text': ['[(125)I]IAS'],\n",
      "               'type': 'CHEMICAL'},\n",
      "              {'id': '4',\n",
      "               'normalized': [],\n",
      "               'offsets': [[1285, 1299]],\n",
      "               'text': ['(-)-alprenolol'],\n",
      "               'type': 'CHEMICAL'},\n",
      "              {'id': '5',\n",
      "               'normalized': [],\n",
      "               'offsets': [[1329, 1332]],\n",
      "               'text': ['GTP'],\n",
      "               'type': 'CHEMICAL'},\n",
      "              {'id': '6',\n",
      "               'normalized': [],\n",
      "               'offsets': [[1346, 1355]],\n",
      "               'text': ['[125I]IAS'],\n",
      "               'type': 'CHEMICAL'},\n",
      "              {'id': '7',\n",
      "               'normalized': [],\n",
      "               'offsets': [[1467, 1496]],\n",
      "               'text': ['[125I]iodoazidobenzylpindolol'],\n",
      "               'type': 'CHEMICAL'},\n",
      "              {'id': '8',\n",
      "               'normalized': [],\n",
      "               'offsets': [[1498, 1508]],\n",
      "               'text': ['[125I]IABP'],\n",
      "               'type': 'CHEMICAL'},\n",
      "              {'id': '9',\n",
      "               'normalized': [],\n",
      "               'offsets': [[1550, 1556]],\n",
      "               'text': ['nickel'],\n",
      "               'type': 'CHEMICAL'},\n",
      "              {'id': '10',\n",
      "               'normalized': [],\n",
      "               'offsets': [[1762, 1772]],\n",
      "               'text': ['[125I]IABP'],\n",
      "               'type': 'CHEMICAL'},\n",
      "              {'id': '11',\n",
      "               'normalized': [],\n",
      "               'offsets': [[1796, 1797]],\n",
      "               'text': ['N'],\n",
      "               'type': 'CHEMICAL'},\n",
      "              {'id': '12',\n",
      "               'normalized': [],\n",
      "               'offsets': [[1870, 1871]],\n",
      "               'text': ['C'],\n",
      "               'type': 'CHEMICAL'},\n",
      "              {'id': '13',\n",
      "               'normalized': [],\n",
      "               'offsets': [[1939, 1948]],\n",
      "               'text': ['[125I]IAS'],\n",
      "               'type': 'CHEMICAL'},\n",
      "              {'id': '14',\n",
      "               'normalized': [],\n",
      "               'offsets': [[318, 328]],\n",
      "               'text': ['salmeterol'],\n",
      "               'type': 'CHEMICAL'},\n",
      "              {'id': '15',\n",
      "               'normalized': [],\n",
      "               'offsets': [[1977, 1978]],\n",
      "               'text': ['C'],\n",
      "               'type': 'CHEMICAL'},\n",
      "              {'id': '16',\n",
      "               'normalized': [],\n",
      "               'offsets': [[2076, 2086]],\n",
      "               'text': ['salmeterol'],\n",
      "               'type': 'CHEMICAL'},\n",
      "              {'id': '17',\n",
      "               'normalized': [],\n",
      "               'offsets': [[2126, 2138]],\n",
      "               'text': ['aryloxyalkyl'],\n",
      "               'type': 'CHEMICAL'},\n",
      "              {'id': '18',\n",
      "               'normalized': [],\n",
      "               'offsets': [[2192, 2195]],\n",
      "               'text': ['IAS'],\n",
      "               'type': 'CHEMICAL'},\n",
      "              {'id': '19',\n",
      "               'normalized': [],\n",
      "               'offsets': [[472, 482]],\n",
      "               'text': ['salmeterol'],\n",
      "               'type': 'CHEMICAL'},\n",
      "              {'id': '20',\n",
      "               'normalized': [],\n",
      "               'offsets': [[517, 523]],\n",
      "               'text': ['phenyl'],\n",
      "               'type': 'CHEMICAL'},\n",
      "              {'id': '21',\n",
      "               'normalized': [],\n",
      "               'offsets': [[566, 576]],\n",
      "               'text': ['salmeterol'],\n",
      "               'type': 'CHEMICAL'},\n",
      "              {'id': '22',\n",
      "               'normalized': [],\n",
      "               'offsets': [[667, 694]],\n",
      "               'text': ['[(125)I]iodoazidosalmeterol'],\n",
      "               'type': 'CHEMICAL'},\n",
      "              {'id': '23',\n",
      "               'normalized': [],\n",
      "               'offsets': [[696, 705]],\n",
      "               'text': ['[125I]IAS'],\n",
      "               'type': 'CHEMICAL'},\n",
      "              {'id': '24',\n",
      "               'normalized': [],\n",
      "               'offsets': [[718, 726]],\n",
      "               'text': ['adenylyl'],\n",
      "               'type': 'CHEMICAL'},\n",
      "              {'id': '25',\n",
      "               'normalized': [],\n",
      "               'offsets': [[761, 769]],\n",
      "               'text': ['adenylyl'],\n",
      "               'type': 'CHEMICAL'},\n",
      "              {'id': '26',\n",
      "               'normalized': [],\n",
      "               'offsets': [[860, 863]],\n",
      "               'text': ['IAS'],\n",
      "               'type': 'CHEMICAL'},\n",
      "              {'id': '27',\n",
      "               'normalized': [],\n",
      "               'offsets': [[884, 894]],\n",
      "               'text': ['salmeterol'],\n",
      "               'type': 'CHEMICAL'},\n",
      "              {'id': '28',\n",
      "               'normalized': [],\n",
      "               'offsets': [[957, 962]],\n",
      "               'text': ['azide'],\n",
      "               'type': 'CHEMICAL'},\n",
      "              {'id': '29',\n",
      "               'normalized': [],\n",
      "               'offsets': [[966, 969]],\n",
      "               'text': ['IAS'],\n",
      "               'type': 'CHEMICAL'},\n",
      "              {'id': '30',\n",
      "               'normalized': [],\n",
      "               'offsets': [[991, 997]],\n",
      "               'text': ['phenyl'],\n",
      "               'type': 'CHEMICAL'},\n",
      "              {'id': '31',\n",
      "               'normalized': [],\n",
      "               'offsets': [[1110, 1119]],\n",
      "               'text': ['[125I]IAS'],\n",
      "               'type': 'CHEMICAL'},\n",
      "              {'id': '32',\n",
      "               'normalized': [],\n",
      "               'offsets': [[106, 133]],\n",
      "               'text': ['[(125)I]iodoazidosalmeterol'],\n",
      "               'type': 'CHEMICAL'},\n",
      "              {'id': '33',\n",
      "               'normalized': [],\n",
      "               'offsets': [[1158, 1172]],\n",
      "               'text': ['human beta 2AR'],\n",
      "               'type': 'GENE-N'},\n",
      "              {'id': '34',\n",
      "               'normalized': [],\n",
      "               'offsets': [[1412, 1420]],\n",
      "               'text': ['beta 2AR'],\n",
      "               'type': 'GENE-N'},\n",
      "              {'id': '35',\n",
      "               'normalized': [],\n",
      "               'offsets': [[1590, 1599]],\n",
      "               'text': ['factor Xa'],\n",
      "               'type': 'GENE-N'},\n",
      "              {'id': '36',\n",
      "               'normalized': [],\n",
      "               'offsets': [[2211, 2219]],\n",
      "               'text': ['beta 2AR'],\n",
      "               'type': 'GENE-N'},\n",
      "              {'id': '37',\n",
      "               'normalized': [],\n",
      "               'offsets': [[163, 188]],\n",
      "               'text': ['beta2-adrenergic receptor'],\n",
      "               'type': 'GENE-N'},\n",
      "              {'id': '38',\n",
      "               'normalized': [],\n",
      "               'offsets': [[584, 592]],\n",
      "               'text': ['beta 2AR'],\n",
      "               'type': 'GENE-N'},\n",
      "              {'id': '39',\n",
      "               'normalized': [],\n",
      "               'offsets': [[190, 198]],\n",
      "               'text': ['beta 2AR'],\n",
      "               'type': 'GENE-N'},\n",
      "              {'id': '40',\n",
      "               'normalized': [],\n",
      "               'offsets': [[43, 69]],\n",
      "               'text': ['beta 2-adrenergic receptor'],\n",
      "               'type': 'GENE-N'},\n",
      "              {'id': '41',\n",
      "               'normalized': [],\n",
      "               'offsets': [[12, 22]],\n",
      "               'text': ['salmeterol'],\n",
      "               'type': 'CHEMICAL'},\n",
      "              {'id': '42',\n",
      "               'normalized': [],\n",
      "               'offsets': [[536, 551]],\n",
      "               'text': ['aralkyloxyalkyl'],\n",
      "               'type': 'CHEMICAL'},\n",
      "              {'id': '43',\n",
      "               'normalized': [],\n",
      "               'offsets': [[718, 734]],\n",
      "               'text': ['adenylyl cyclase'],\n",
      "               'type': 'GENE-Y'},\n",
      "              {'id': '44',\n",
      "               'normalized': [],\n",
      "               'offsets': [[761, 777]],\n",
      "               'text': ['adenylyl cyclase'],\n",
      "               'type': 'GENE-Y'}],\n",
      " 'events': [],\n",
      " 'id': '0',\n",
      " 'passages': [{'id': '1',\n",
      "               'offsets': [[0, 2232]],\n",
      "               'text': ['Probing the salmeterol binding site on the beta '\n",
      "                        '2-adrenergic receptor using a novel photoaffinity '\n",
      "                        'ligand, [(125)I]iodoazidosalmeterol.\\n'\n",
      "                        'Salmeterol is a long-acting beta2-adrenergic receptor '\n",
      "                        '(beta 2AR) agonist used clinically to treat asthma. '\n",
      "                        'In addition to binding at the active agonist site, it '\n",
      "                        'has been proposed that salmeterol also binds with '\n",
      "                        'very high affinity at a second site, termed the '\n",
      "                        '\"exosite\", and that this exosite contributes to the '\n",
      "                        'long duration of action of salmeterol. To determine '\n",
      "                        'the position of the phenyl ring of the '\n",
      "                        'aralkyloxyalkyl side chain of salmeterol in the beta '\n",
      "                        '2AR binding site, we designed and synthesized the '\n",
      "                        'agonist photoaffinity label '\n",
      "                        '[(125)I]iodoazidosalmeterol ([125I]IAS). In direct '\n",
      "                        'adenylyl cyclase activation, in effects on adenylyl '\n",
      "                        'cyclase after pretreatment of intact cells, and in '\n",
      "                        'guinea pig tracheal relaxation assays, IAS and the '\n",
      "                        'parent drug salmeterol behave essentially the same. '\n",
      "                        'Significantly, the photoreactive azide of IAS is '\n",
      "                        'positioned on the phenyl ring at the end of the '\n",
      "                        'molecule which is thought to be involved in exosite '\n",
      "                        'binding. Carrier-free radioiodinated [125I]IAS was '\n",
      "                        'used to photolabel epitope-tagged human beta 2AR in '\n",
      "                        'membranes prepared from stably transfected HEK 293 '\n",
      "                        'cells. Labeling with [(125)I]IAS was blocked by 10 '\n",
      "                        'microM (-)-alprenolol and inhibited by addition of '\n",
      "                        'GTP gamma S, and [125I]IAS migrated at the same '\n",
      "                        'position on an SDS-PAGE gel as the beta 2AR labeled '\n",
      "                        'by the antagonist photoaffinity label '\n",
      "                        '[125I]iodoazidobenzylpindolol ([125I]IABP). The '\n",
      "                        'labeled receptor was purified on a nickel affinity '\n",
      "                        'column and cleaved with factor Xa protease at a '\n",
      "                        'specific sequence in the large loop between '\n",
      "                        'transmembrane segments 5 and 6, yielding two '\n",
      "                        'peptides. While the control antagonist photoaffinity '\n",
      "                        'label [125I]IABP labeled both the large N-terminal '\n",
      "                        'fragment [containing transmembranes (TMs) 1-5] and '\n",
      "                        'the smaller C-terminal fragment (containing TMs 6 and '\n",
      "                        '7), essentially all of the [125I]IAS labeling was on '\n",
      "                        'the smaller C-terminal peptide containing TMs 6 and '\n",
      "                        '7. This direct biochemical evidence demonstrates that '\n",
      "                        'when salmeterol binds to the receptor, its '\n",
      "                        'hydrophobic aryloxyalkyl tail is positioned near TM 6 '\n",
      "                        'and/or TM 7. A model of IAS binding to the beta 2AR '\n",
      "                        'is proposed.'],\n",
      "               'type': 'title and abstract'}],\n",
      " 'relations': [{'arg1_id': '31',\n",
      "                'arg2_id': '33',\n",
      "                'id': '45',\n",
      "                'normalized': [],\n",
      "                'type': 'Regulator'},\n",
      "               {'arg1_id': '32',\n",
      "                'arg2_id': '40',\n",
      "                'id': '46',\n",
      "                'normalized': [],\n",
      "                'type': 'Regulator'},\n",
      "               {'arg1_id': '41',\n",
      "                'arg2_id': '40',\n",
      "                'id': '47',\n",
      "                'normalized': [],\n",
      "                'type': 'Regulator'},\n",
      "               {'arg1_id': '2',\n",
      "                'arg2_id': '37',\n",
      "                'id': '48',\n",
      "                'normalized': [],\n",
      "                'type': 'Agonist'},\n",
      "               {'arg1_id': '2',\n",
      "                'arg2_id': '39',\n",
      "                'id': '49',\n",
      "                'normalized': [],\n",
      "                'type': 'Agonist'},\n",
      "               {'arg1_id': '21',\n",
      "                'arg2_id': '38',\n",
      "                'id': '50',\n",
      "                'normalized': [],\n",
      "                'type': 'Regulator'},\n",
      "               {'arg1_id': '42',\n",
      "                'arg2_id': '38',\n",
      "                'id': '51',\n",
      "                'normalized': [],\n",
      "                'type': 'Regulator'},\n",
      "               {'arg1_id': '20',\n",
      "                'arg2_id': '38',\n",
      "                'id': '52',\n",
      "                'normalized': [],\n",
      "                'type': 'Regulator'},\n",
      "               {'arg1_id': '22',\n",
      "                'arg2_id': '38',\n",
      "                'id': '53',\n",
      "                'normalized': [],\n",
      "                'type': 'Agonist'},\n",
      "               {'arg1_id': '23',\n",
      "                'arg2_id': '38',\n",
      "                'id': '54',\n",
      "                'normalized': [],\n",
      "                'type': 'Agonist'},\n",
      "               {'arg1_id': '26',\n",
      "                'arg2_id': '43',\n",
      "                'id': '55',\n",
      "                'normalized': [],\n",
      "                'type': 'Upregulator'},\n",
      "               {'arg1_id': '27',\n",
      "                'arg2_id': '43',\n",
      "                'id': '56',\n",
      "                'normalized': [],\n",
      "                'type': 'Upregulator'},\n",
      "               {'arg1_id': '26',\n",
      "                'arg2_id': '44',\n",
      "                'id': '57',\n",
      "                'normalized': [],\n",
      "                'type': 'Upregulator'},\n",
      "               {'arg1_id': '27',\n",
      "                'arg2_id': '44',\n",
      "                'id': '58',\n",
      "                'normalized': [],\n",
      "                'type': 'Upregulator'},\n",
      "               {'arg1_id': '7',\n",
      "                'arg2_id': '34',\n",
      "                'id': '59',\n",
      "                'normalized': [],\n",
      "                'type': 'Antagonist'},\n",
      "               {'arg1_id': '8',\n",
      "                'arg2_id': '34',\n",
      "                'id': '60',\n",
      "                'normalized': [],\n",
      "                'type': 'Antagonist'},\n",
      "               {'arg1_id': '6',\n",
      "                'arg2_id': '34',\n",
      "                'id': '61',\n",
      "                'normalized': [],\n",
      "                'type': 'Regulator'},\n",
      "               {'arg1_id': '3',\n",
      "                'arg2_id': '34',\n",
      "                'id': '62',\n",
      "                'normalized': [],\n",
      "                'type': 'Regulator'},\n",
      "               {'arg1_id': '18',\n",
      "                'arg2_id': '36',\n",
      "                'id': '63',\n",
      "                'normalized': [],\n",
      "                'type': 'Regulator'},\n",
      "               {'arg1_id': '4',\n",
      "                'arg2_id': '34',\n",
      "                'id': '64',\n",
      "                'normalized': [],\n",
      "                'type': 'Regulator'}]}\n"
     ]
    }
   ],
   "source": [
    "chemprot_sample = chemprot_dataset['sample'][0]\n",
    "\n",
    "pprint(chemprot_sample)"
   ]
  },
  {
   "cell_type": "code",
   "execution_count": null,
   "id": "6fd32d70",
   "metadata": {},
   "outputs": [],
   "source": [
    "print(find_max_num_offsets(chemprot_dataset['train']))\n",
    "print(find_max_num_offsets(chemprot_dataset['test']))"
   ]
  },
  {
   "cell_type": "code",
   "execution_count": 5,
   "id": "c1037887",
   "metadata": {},
   "outputs": [
    {
     "data": {
      "application/vnd.jupyter.widget-view+json": {
       "model_id": "5ab8a729c413477882595ea0c829bc7d",
       "version_major": 2,
       "version_minor": 0
      },
      "text/plain": [
       "Processing train:   0%|          | 0/1020 [00:00<?, ?it/s]"
      ]
     },
     "metadata": {},
     "output_type": "display_data"
    },
    {
     "data": {
      "application/vnd.jupyter.widget-view+json": {
       "model_id": "d7f09827d0034bf4aa136d75e8a62771",
       "version_major": 2,
       "version_minor": 0
      },
      "text/plain": [
       "Processing val:   0%|          | 0/612 [00:00<?, ?it/s]"
      ]
     },
     "metadata": {},
     "output_type": "display_data"
    },
    {
     "data": {
      "application/vnd.jupyter.widget-view+json": {
       "model_id": "5ec383561ab94433a7f0cef0130b2400",
       "version_major": 2,
       "version_minor": 0
      },
      "text/plain": [
       "Processing test:   0%|          | 0/800 [00:00<?, ?it/s]"
      ]
     },
     "metadata": {},
     "output_type": "display_data"
    }
   ],
   "source": [
    "process_bigbio(chemprot_dataset['train'], '../data/chemprot', 'train')\n",
    "process_bigbio(chemprot_dataset['validation'], '../data/chemprot', 'val')\n",
    "process_bigbio(chemprot_dataset['test'], '../data/chemprot', 'test')"
   ]
  },
  {
   "cell_type": "markdown",
   "id": "823c8a33",
   "metadata": {},
   "source": [
    "## DDI dataset"
   ]
  },
  {
   "cell_type": "code",
   "execution_count": 6,
   "id": "94f53fec",
   "metadata": {},
   "outputs": [
    {
     "name": "stderr",
     "output_type": "stream",
     "text": [
      "Using the latest cached version of the dataset since bigbio/ddi_corpus couldn't be found on the Hugging Face Hub\n",
      "Found the latest cached dataset configuration 'ddi_corpus_bigbio_kb' at /home/bt19d200/.cache/huggingface/datasets/bigbio___ddi_corpus/ddi_corpus_bigbio_kb/1.0.0/da8e94986a0c689095b22bed134248b11f9311c7 (last modified on Tue Jul 22 00:18:23 2025).\n"
     ]
    },
    {
     "name": "stdout",
     "output_type": "stream",
     "text": [
      "DatasetDict({\n",
      "    train: Dataset({\n",
      "        features: ['id', 'document_id', 'passages', 'entities', 'events', 'coreferences', 'relations'],\n",
      "        num_rows: 714\n",
      "    })\n",
      "    test: Dataset({\n",
      "        features: ['id', 'document_id', 'passages', 'entities', 'events', 'coreferences', 'relations'],\n",
      "        num_rows: 303\n",
      "    })\n",
      "})\n"
     ]
    }
   ],
   "source": [
    "ddi_dataset = load_dataset(\"bigbio/ddi_corpus\", \"ddi_corpus_bigbio_kb\")\n",
    "\n",
    "print(ddi_dataset)"
   ]
  },
  {
   "cell_type": "code",
   "execution_count": 18,
   "id": "f374a8f1",
   "metadata": {},
   "outputs": [
    {
     "name": "stdout",
     "output_type": "stream",
     "text": [
      "{'coreferences': [],\n",
      " 'document_id': '15825391',\n",
      " 'entities': [{'id': '15825391_T1',\n",
      "               'normalized': [],\n",
      "               'offsets': [[46, 60]],\n",
      "               'text': ['amphotericin B'],\n",
      "               'type': 'DRUG'},\n",
      "              {'id': '15825391_T2',\n",
      "               'normalized': [],\n",
      "               'offsets': [[75, 82]],\n",
      "               'text': ['filipin'],\n",
      "               'type': 'DRUG_N'},\n",
      "              {'id': '15825391_T3',\n",
      "               'normalized': [],\n",
      "               'offsets': [[111, 130]],\n",
      "               'text': ['polyene antibiotics'],\n",
      "               'type': 'GROUP'},\n",
      "              {'id': '15825391_T4',\n",
      "               'normalized': [],\n",
      "               'offsets': [[143, 150]],\n",
      "               'text': ['filipin'],\n",
      "               'type': 'DRUG_N'},\n",
      "              {'id': '15825391_T5',\n",
      "               'normalized': [],\n",
      "               'offsets': [[202, 216]],\n",
      "               'text': ['amphotericin B'],\n",
      "               'type': 'DRUG'},\n",
      "              {'id': '15825391_T6',\n",
      "               'normalized': [],\n",
      "               'offsets': [[322, 329]],\n",
      "               'text': ['filipin'],\n",
      "               'type': 'DRUG_N'},\n",
      "              {'id': '15825391_T7',\n",
      "               'normalized': [],\n",
      "               'offsets': [[359, 373]],\n",
      "               'text': ['amphotericin B'],\n",
      "               'type': 'DRUG'},\n",
      "              {'id': '15825391_T8',\n",
      "               'normalized': [],\n",
      "               'offsets': [[471, 490]],\n",
      "               'text': ['polyene antibiotics'],\n",
      "               'type': 'GROUP'},\n",
      "              {'id': '15825391_T9',\n",
      "               'normalized': [],\n",
      "               'offsets': [[529, 536]],\n",
      "               'text': ['filipin'],\n",
      "               'type': 'DRUG_N'},\n",
      "              {'id': '15825391_T10',\n",
      "               'normalized': [],\n",
      "               'offsets': [[594, 608]],\n",
      "               'text': ['amphotericin B'],\n",
      "               'type': 'DRUG'},\n",
      "              {'id': '15825391_T11',\n",
      "               'normalized': [],\n",
      "               'offsets': [[682, 689]],\n",
      "               'text': ['filipin'],\n",
      "               'type': 'DRUG_N'},\n",
      "              {'id': '15825391_T12',\n",
      "               'normalized': [],\n",
      "               'offsets': [[809, 823]],\n",
      "               'text': ['amphotericin B'],\n",
      "               'type': 'DRUG'}],\n",
      " 'events': [],\n",
      " 'id': '15825391',\n",
      " 'passages': [{'id': '15825391__text',\n",
      "               'offsets': [[0, 1069]],\n",
      "               'text': ['Molecular basis for the selective toxicity of '\n",
      "                        'amphotericin B for yeast and filipin for animal '\n",
      "                        'cells. Among the polyene antibiotics, many, like '\n",
      "                        'filipin, cannot be used clinically because they are '\n",
      "                        'toxic; amphotericin B, however, is useful in therapy '\n",
      "                        'of human fungal infections because it is less toxic. '\n",
      "                        'Both the toxicity of filipin and the therapeutic '\n",
      "                        'value of amphotericin B can be rationalized at the '\n",
      "                        'cellular and molecular level by the following '\n",
      "                        'observations: (i) these polyene antibiotics showed '\n",
      "                        'differential effects on cells; filipin was more '\n",
      "                        'potent in lysing human red blood cells, whereas '\n",
      "                        'amphotericin B was more potent in inhibiting yeast '\n",
      "                        'cell growth; and (ii) the effects of filipin were '\n",
      "                        'more efficiently inhibited by added cholesterol, the '\n",
      "                        'major membrane sterol in human cells, whereas the '\n",
      "                        'effects of amphotericin B were more efficiently '\n",
      "                        'inhibited by ergosterol, the major membrane sterol in '\n",
      "                        'yeast. The simplest inference is that the toxicity '\n",
      "                        'and effectiveness of polyenes are determined by their '\n",
      "                        'relative avidities for the predominant sterol in cell '\n",
      "                        'membranes.'],\n",
      "               'type': 'abstract'}],\n",
      " 'relations': []}\n"
     ]
    }
   ],
   "source": [
    "ddi_sample = ddi_dataset['train'][0]\n",
    "\n",
    "pprint(ddi_sample)"
   ]
  },
  {
   "cell_type": "code",
   "execution_count": 21,
   "id": "5f6e5315",
   "metadata": {},
   "outputs": [
    {
     "data": {
      "text/plain": [
       "(2, [[635, 638], [661, 678]])"
      ]
     },
     "execution_count": 21,
     "metadata": {},
     "output_type": "execute_result"
    }
   ],
   "source": [
    "find_max_num_offsets(ddi_dataset['train'])"
   ]
  },
  {
   "cell_type": "code",
   "execution_count": 7,
   "id": "6f70d2bb",
   "metadata": {},
   "outputs": [
    {
     "data": {
      "application/vnd.jupyter.widget-view+json": {
       "model_id": "79a24b8544e344e298ff851e61cfc3c1",
       "version_major": 2,
       "version_minor": 0
      },
      "text/plain": [
       "Processing train:   0%|          | 0/714 [00:00<?, ?it/s]"
      ]
     },
     "metadata": {},
     "output_type": "display_data"
    },
    {
     "data": {
      "application/vnd.jupyter.widget-view+json": {
       "model_id": "ad8b057ac4524bd68de2e5472af812e6",
       "version_major": 2,
       "version_minor": 0
      },
      "text/plain": [
       "Processing test:   0%|          | 0/303 [00:00<?, ?it/s]"
      ]
     },
     "metadata": {},
     "output_type": "display_data"
    }
   ],
   "source": [
    "process_bigbio(ddi_dataset['train'], '../data/ddi', 'train')\n",
    "process_bigbio(ddi_dataset['test'], '../data/ddi', 'test')"
   ]
  },
  {
   "cell_type": "markdown",
   "id": "f9092f19",
   "metadata": {},
   "source": [
    "## BC5CDR"
   ]
  },
  {
   "cell_type": "code",
   "execution_count": null,
   "id": "a3fee9bd",
   "metadata": {},
   "outputs": [],
   "source": [
    "def process_bc5cdr(file_path, output_dir, split):\n",
    "    \"\"\"\n",
    "    Processes a BC5CDR BioC XML file into the standard format and saves it.\n",
    "    \"\"\"\n",
    "    tree = ET.parse(file_path)\n",
    "    root = tree.getroot()\n",
    "\n",
    "    # Process documents\n",
    "    formatted_data = []\n",
    "    for doc in tqdm(root.findall('document'), desc=\"Processing Documents\"):\n",
    "        doc_id = doc.find('id').text\n",
    "        \n",
    "        curr_char_offset = 0\n",
    "        # Process entities and texts\n",
    "        passages_text = []\n",
    "        entities_map = {}\n",
    "        for passage in doc.findall('passage'):\n",
    "            passage_text = passage.find('text').text\n",
    "            passages_text.append(passage_text)\n",
    "            \n",
    "            for ann in passage.findall('annotation'):\n",
    "                mesh_id = ann.find('infon[@key=\"MESH\"]').text\n",
    "                location = ann.find('location')\n",
    "                char_start = int(location.get('offset')) + curr_char_offset\n",
    "                char_end = char_start + int(location.get('length'))\n",
    "                if mesh_id not in entities_map:\n",
    "                    entities_map[mesh_id] = {\n",
    "                        'text': ann.find('text').text,\n",
    "                        'type': ann.find('infon[@key=\"type\"]').text,\n",
    "                        'char_offsets': [(char_start, char_end)]\n",
    "                    }\n",
    "                else:\n",
    "                    entities_map[mesh_id]['char_offsets'].append((char_start, char_end))\n",
    "            \n",
    "            curr_char_offset += len(passage_text) + 1\n",
    "        \n",
    "        doc_text = \" \".join(passages_text)\n",
    "        \n",
    "        # Skip documents exceeding token size limit of BERT\n",
    "        if len(doc_text) > 512:\n",
    "            continue\n",
    "        encoding = tokenizer.encode_plus(doc_text, add_special_tokens=True, return_offsets_mapping=True)\n",
    "        doc_entities = char_to_token_indices(encoding['offset_mapping'], list(entities_map.values()))\n",
    "\n",
    "        # Process relations\n",
    "        doc_relations = []\n",
    "        for rel in doc.findall('relation'):\n",
    "            chemical_mesh = rel.find('infon[@key=\"Chemical\"]').text\n",
    "            disease_mesh = rel.find('infon[@key=\"Disease\"]').text\n",
    "            head_entity = entities_map.get(chemical_mesh)\n",
    "            tail_entity = entities_map.get(disease_mesh)\n",
    "            doc_relations.append({\n",
    "                \"type\": \"CID\", # Chemical-Induced Disease\n",
    "                \"head\": head_entity,\n",
    "                \"tail\": tail_entity\n",
    "            })\n",
    "        \n",
    "        formatted_data.append({\n",
    "            \"id\": doc_id,\n",
    "            \"text\": doc_text,\n",
    "            \"entities\": doc_entities,\n",
    "            \"relations\": doc_relations\n",
    "        })\n",
    "\n",
    "    os.makedirs(output_dir, exist_ok=True)\n",
    "    with open(f\"{output_dir}/{split}.json\", 'w', encoding='utf-8') as f:\n",
    "        json.dump(formatted_data, f, indent=2)"
   ]
  },
  {
   "cell_type": "code",
   "execution_count": 9,
   "id": "3b2aab94",
   "metadata": {},
   "outputs": [],
   "source": [
    "bc5cdr_train_path = \"/home/bt19d200/Ayaan/Datasets/BC5CDR/CDR_Data/CDR.Corpus.v010516/CDR_TrainingSet.BioC.xml\"\n",
    "bc5cdr_val_path = \"/home/bt19d200/Ayaan/Datasets/BC5CDR/CDR_Data/CDR.Corpus.v010516/CDR_DevelopmentSet.BioC.xml\"\n",
    "bc5cdr_test_path = \"/home/bt19d200/Ayaan/Datasets/BC5CDR/CDR_Data/CDR.Corpus.v010516/CDR_TestSet.BioC.xml\""
   ]
  },
  {
   "cell_type": "code",
   "execution_count": 12,
   "id": "d878450b",
   "metadata": {},
   "outputs": [
    {
     "data": {
      "application/vnd.jupyter.widget-view+json": {
       "model_id": "093d001bbe074d018f3cbf95369b23b3",
       "version_major": 2,
       "version_minor": 0
      },
      "text/plain": [
       "Processing Documents:   0%|          | 0/500 [00:00<?, ?it/s]"
      ]
     },
     "metadata": {},
     "output_type": "display_data"
    },
    {
     "data": {
      "application/vnd.jupyter.widget-view+json": {
       "model_id": "86cd51e6845a4b1d84b61a4c7b01d30c",
       "version_major": 2,
       "version_minor": 0
      },
      "text/plain": [
       "Processing Documents:   0%|          | 0/500 [00:00<?, ?it/s]"
      ]
     },
     "metadata": {},
     "output_type": "display_data"
    },
    {
     "data": {
      "application/vnd.jupyter.widget-view+json": {
       "model_id": "aa7d3dba315441afa94d545613842cbc",
       "version_major": 2,
       "version_minor": 0
      },
      "text/plain": [
       "Processing Documents:   0%|          | 0/500 [00:00<?, ?it/s]"
      ]
     },
     "metadata": {},
     "output_type": "display_data"
    }
   ],
   "source": [
    "process_bc5cdr(bc5cdr_train_path, \"../data/bc5cdr\", \"train\")\n",
    "process_bc5cdr(bc5cdr_val_path, \"../data/bc5cdr\", \"val\")\n",
    "process_bc5cdr(bc5cdr_test_path, \"../data/bc5cdr\", \"test\")"
   ]
  },
  {
   "cell_type": "markdown",
   "id": "8326a598",
   "metadata": {},
   "source": [
    "## BioRED"
   ]
  },
  {
   "cell_type": "code",
   "execution_count": 26,
   "id": "a257e7de",
   "metadata": {},
   "outputs": [],
   "source": [
    "def process_biored(file_path, output_dir, split):\n",
    "    \"\"\"\n",
    "    Processes a BioRED BioC JSON file into the standard format and saves it.\n",
    "    \"\"\"\n",
    "    with open(file_path, 'r', encoding='utf-8') as f:\n",
    "        data = json.load(f)\n",
    "\n",
    "    # Process documents\n",
    "    formatted_data = []\n",
    "    for doc in tqdm(data['documents'], desc=\"Processing Documents\"):\n",
    "        doc_id = doc['id']\n",
    "        \n",
    "        curr_char_offset = 0\n",
    "        # Process entities and texts\n",
    "        passages_text = []\n",
    "        entities_map = {}\n",
    "        for passage in doc['passages']:\n",
    "            passage_text = passage['text']\n",
    "            passages_text.append(passage_text)\n",
    "            \n",
    "            for ann in passage['annotations']:\n",
    "                entity_id = ann['infons']['identifier']\n",
    "                char_offsets = [(int(location['offset']) + curr_char_offset,\n",
    "                                 int(location['offset']) + curr_char_offset + int(location['length']))\n",
    "                                 for location in ann['locations']]\n",
    "                if entity_id not in entities_map:\n",
    "                    entities_map[entity_id] = {\n",
    "                        'text': ann['text'],\n",
    "                        'type': ann['infons']['type'],\n",
    "                        'char_offsets': []\n",
    "                    }\n",
    "                \n",
    "                entities_map[entity_id]['char_offsets'].extend(char_offsets)\n",
    "            \n",
    "            curr_char_offset += len(passage_text) + 1\n",
    "        \n",
    "        doc_text = \" \".join(passages_text)\n",
    "        # Skip documents exceeding token size limit of BERT\n",
    "        if len(doc_text) > 512:\n",
    "            continue\n",
    "        \n",
    "        encoding = tokenizer.encode_plus(doc_text, add_special_tokens=True, return_offsets_mapping=True)\n",
    "        doc_entities = char_to_token_indices(encoding['offset_mapping'], list(entities_map.values()))\n",
    "\n",
    "        # Process relations\n",
    "        doc_relations = []\n",
    "        for rel in doc['relations']:\n",
    "            head, tail = rel['infons']['entity1'], rel['infons']['entity2']\n",
    "            head_entity, tail_entity = entities_map.get(head, {}), entities_map.get(tail, {})\n",
    "            doc_relations.append({\n",
    "                \"type\": rel['infons']['type'],\n",
    "                \"head\": head_entity,\n",
    "                \"tail\": tail_entity\n",
    "            })\n",
    "        \n",
    "        formatted_data.append({\n",
    "            \"id\": doc_id,\n",
    "            \"text\": doc_text,\n",
    "            \"entities\": doc_entities,\n",
    "            \"relations\": doc_relations\n",
    "        })\n",
    "\n",
    "    os.makedirs(output_dir, exist_ok=True)\n",
    "    with open(f\"{output_dir}/{split}.json\", 'w', encoding='utf-8') as f:\n",
    "        json.dump(formatted_data, f, indent=2)"
   ]
  },
  {
   "cell_type": "code",
   "execution_count": 14,
   "id": "b743bd94",
   "metadata": {},
   "outputs": [],
   "source": [
    "biored_train_path = \"/home/bt19d200/Ayaan/Datasets/BIORED/Train.BioC.JSON\"\n",
    "biored_val_path = \"/home/bt19d200/Ayaan/Datasets/BIORED/Dev.BioC.JSON\"\n",
    "biored_test_path = \"/home/bt19d200/Ayaan/Datasets/BIORED/Test.BioC.JSON\""
   ]
  },
  {
   "cell_type": "code",
   "execution_count": 27,
   "id": "eeace405",
   "metadata": {},
   "outputs": [
    {
     "data": {
      "application/vnd.jupyter.widget-view+json": {
       "model_id": "e950f93bf9174e1ca1e22062d8b97a84",
       "version_major": 2,
       "version_minor": 0
      },
      "text/plain": [
       "Processing Documents:   0%|          | 0/400 [00:00<?, ?it/s]"
      ]
     },
     "metadata": {},
     "output_type": "display_data"
    },
    {
     "data": {
      "application/vnd.jupyter.widget-view+json": {
       "model_id": "22956aa678ba443d89c8b8571a1d67ce",
       "version_major": 2,
       "version_minor": 0
      },
      "text/plain": [
       "Processing Documents:   0%|          | 0/100 [00:00<?, ?it/s]"
      ]
     },
     "metadata": {},
     "output_type": "display_data"
    },
    {
     "data": {
      "application/vnd.jupyter.widget-view+json": {
       "model_id": "8cfe166c5f404329b605ad009106e868",
       "version_major": 2,
       "version_minor": 0
      },
      "text/plain": [
       "Processing Documents:   0%|          | 0/100 [00:00<?, ?it/s]"
      ]
     },
     "metadata": {},
     "output_type": "display_data"
    }
   ],
   "source": [
    "process_biored(biored_train_path, \"../data/biored\", \"train\")\n",
    "process_biored(biored_val_path, \"../data/biored\", \"val\")\n",
    "process_biored(biored_test_path, \"../data/biored\", \"test\")"
   ]
  }
 ],
 "metadata": {
  "kernelspec": {
   "display_name": "Python 3",
   "language": "python",
   "name": "python3"
  },
  "language_info": {
   "codemirror_mode": {
    "name": "ipython",
    "version": 3
   },
   "file_extension": ".py",
   "mimetype": "text/x-python",
   "name": "python",
   "nbconvert_exporter": "python",
   "pygments_lexer": "ipython3",
   "version": "3.13.7"
  }
 },
 "nbformat": 4,
 "nbformat_minor": 5
}
